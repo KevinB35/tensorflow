{
 "cells": [
  {
   "cell_type": "markdown",
   "id": "e66b3dea-e71f-42c1-9461-c4007bd14752",
   "metadata": {},
   "source": [
    "# Étape 1 : Prétraitement du Texte"
   ]
  },
  {
   "cell_type": "code",
   "execution_count": 1,
   "id": "a26d5121-0df1-4023-8a8e-f8895fd668e1",
   "metadata": {},
   "outputs": [
    {
     "data": {
      "text/html": [
       "<div>\n",
       "<style scoped>\n",
       "    .dataframe tbody tr th:only-of-type {\n",
       "        vertical-align: middle;\n",
       "    }\n",
       "\n",
       "    .dataframe tbody tr th {\n",
       "        vertical-align: top;\n",
       "    }\n",
       "\n",
       "    .dataframe thead th {\n",
       "        text-align: right;\n",
       "    }\n",
       "</style>\n",
       "<table border=\"1\" class=\"dataframe\">\n",
       "  <thead>\n",
       "    <tr style=\"text-align: right;\">\n",
       "      <th></th>\n",
       "      <th>Date</th>\n",
       "      <th>Transaction Description</th>\n",
       "      <th>Category</th>\n",
       "      <th>Amount</th>\n",
       "      <th>Type</th>\n",
       "    </tr>\n",
       "  </thead>\n",
       "  <tbody>\n",
       "    <tr>\n",
       "      <th>0</th>\n",
       "      <td>2020-01-02</td>\n",
       "      <td>Score each.</td>\n",
       "      <td>Food &amp; Drink</td>\n",
       "      <td>1485.69</td>\n",
       "      <td>Expense</td>\n",
       "    </tr>\n",
       "    <tr>\n",
       "      <th>1</th>\n",
       "      <td>2020-01-02</td>\n",
       "      <td>Quality throughout.</td>\n",
       "      <td>Utilities</td>\n",
       "      <td>1475.58</td>\n",
       "      <td>Expense</td>\n",
       "    </tr>\n",
       "    <tr>\n",
       "      <th>2</th>\n",
       "      <td>2020-01-04</td>\n",
       "      <td>Instead ahead despite measure ago.</td>\n",
       "      <td>Rent</td>\n",
       "      <td>1185.08</td>\n",
       "      <td>Expense</td>\n",
       "    </tr>\n",
       "    <tr>\n",
       "      <th>3</th>\n",
       "      <td>2020-01-05</td>\n",
       "      <td>Information last everything thank serve.</td>\n",
       "      <td>Investment</td>\n",
       "      <td>2291.00</td>\n",
       "      <td>Income</td>\n",
       "    </tr>\n",
       "    <tr>\n",
       "      <th>4</th>\n",
       "      <td>2020-01-13</td>\n",
       "      <td>Future choice whatever from.</td>\n",
       "      <td>Food &amp; Drink</td>\n",
       "      <td>1126.88</td>\n",
       "      <td>Expense</td>\n",
       "    </tr>\n",
       "    <tr>\n",
       "      <th>...</th>\n",
       "      <td>...</td>\n",
       "      <td>...</td>\n",
       "      <td>...</td>\n",
       "      <td>...</td>\n",
       "      <td>...</td>\n",
       "    </tr>\n",
       "    <tr>\n",
       "      <th>1495</th>\n",
       "      <td>2024-12-28</td>\n",
       "      <td>Quite as when.</td>\n",
       "      <td>Rent</td>\n",
       "      <td>514.09</td>\n",
       "      <td>Expense</td>\n",
       "    </tr>\n",
       "    <tr>\n",
       "      <th>1496</th>\n",
       "      <td>2024-12-28</td>\n",
       "      <td>Right analysis mention.</td>\n",
       "      <td>Entertainment</td>\n",
       "      <td>727.25</td>\n",
       "      <td>Expense</td>\n",
       "    </tr>\n",
       "    <tr>\n",
       "      <th>1497</th>\n",
       "      <td>2024-12-28</td>\n",
       "      <td>No couple debate must.</td>\n",
       "      <td>Investment</td>\n",
       "      <td>1425.00</td>\n",
       "      <td>Income</td>\n",
       "    </tr>\n",
       "    <tr>\n",
       "      <th>1498</th>\n",
       "      <td>2024-12-29</td>\n",
       "      <td>Discussion black follow.</td>\n",
       "      <td>Shopping</td>\n",
       "      <td>655.78</td>\n",
       "      <td>Expense</td>\n",
       "    </tr>\n",
       "    <tr>\n",
       "      <th>1499</th>\n",
       "      <td>2024-12-29</td>\n",
       "      <td>Pressure activity defense detail.</td>\n",
       "      <td>Other</td>\n",
       "      <td>1480.00</td>\n",
       "      <td>Income</td>\n",
       "    </tr>\n",
       "  </tbody>\n",
       "</table>\n",
       "<p>1500 rows × 5 columns</p>\n",
       "</div>"
      ],
      "text/plain": [
       "            Date                   Transaction Description       Category  \\\n",
       "0     2020-01-02                               Score each.   Food & Drink   \n",
       "1     2020-01-02                       Quality throughout.      Utilities   \n",
       "2     2020-01-04        Instead ahead despite measure ago.           Rent   \n",
       "3     2020-01-05  Information last everything thank serve.     Investment   \n",
       "4     2020-01-13              Future choice whatever from.   Food & Drink   \n",
       "...          ...                                       ...            ...   \n",
       "1495  2024-12-28                            Quite as when.           Rent   \n",
       "1496  2024-12-28                   Right analysis mention.  Entertainment   \n",
       "1497  2024-12-28                    No couple debate must.     Investment   \n",
       "1498  2024-12-29                  Discussion black follow.       Shopping   \n",
       "1499  2024-12-29         Pressure activity defense detail.          Other   \n",
       "\n",
       "       Amount     Type  \n",
       "0     1485.69  Expense  \n",
       "1     1475.58  Expense  \n",
       "2     1185.08  Expense  \n",
       "3     2291.00   Income  \n",
       "4     1126.88  Expense  \n",
       "...       ...      ...  \n",
       "1495   514.09  Expense  \n",
       "1496   727.25  Expense  \n",
       "1497  1425.00   Income  \n",
       "1498   655.78  Expense  \n",
       "1499  1480.00   Income  \n",
       "\n",
       "[1500 rows x 5 columns]"
      ]
     },
     "execution_count": 1,
     "metadata": {},
     "output_type": "execute_result"
    }
   ],
   "source": [
    "# Charger les données (exemple avec le dataset de Kaggle)\n",
    "\n",
    "import pandas as pd\n",
    "\n",
    "df = pd.read_csv('Personal_Finance_Dataset.csv')\n",
    "df = df.dropna()\n",
    "df"
   ]
  },
  {
   "cell_type": "code",
   "execution_count": 2,
   "id": "ebb6bcb7-8602-4918-b5f1-a39aa946adac",
   "metadata": {
    "editable": true,
    "slideshow": {
     "slide_type": ""
    },
    "tags": []
   },
   "outputs": [
    {
     "data": {
      "text/html": [
       "<div>\n",
       "<style scoped>\n",
       "    .dataframe tbody tr th:only-of-type {\n",
       "        vertical-align: middle;\n",
       "    }\n",
       "\n",
       "    .dataframe tbody tr th {\n",
       "        vertical-align: top;\n",
       "    }\n",
       "\n",
       "    .dataframe thead th {\n",
       "        text-align: right;\n",
       "    }\n",
       "</style>\n",
       "<table border=\"1\" class=\"dataframe\">\n",
       "  <thead>\n",
       "    <tr style=\"text-align: right;\">\n",
       "      <th></th>\n",
       "      <th>Date</th>\n",
       "      <th>Transaction Description</th>\n",
       "      <th>Category</th>\n",
       "      <th>Amount</th>\n",
       "      <th>Type</th>\n",
       "      <th>category_encoded</th>\n",
       "    </tr>\n",
       "  </thead>\n",
       "  <tbody>\n",
       "    <tr>\n",
       "      <th>0</th>\n",
       "      <td>2020-01-02</td>\n",
       "      <td>Score each.</td>\n",
       "      <td>Food &amp; Drink</td>\n",
       "      <td>1485.69</td>\n",
       "      <td>Expense</td>\n",
       "      <td>1</td>\n",
       "    </tr>\n",
       "    <tr>\n",
       "      <th>1</th>\n",
       "      <td>2020-01-02</td>\n",
       "      <td>Quality throughout.</td>\n",
       "      <td>Utilities</td>\n",
       "      <td>1475.58</td>\n",
       "      <td>Expense</td>\n",
       "      <td>9</td>\n",
       "    </tr>\n",
       "    <tr>\n",
       "      <th>2</th>\n",
       "      <td>2020-01-04</td>\n",
       "      <td>Instead ahead despite measure ago.</td>\n",
       "      <td>Rent</td>\n",
       "      <td>1185.08</td>\n",
       "      <td>Expense</td>\n",
       "      <td>5</td>\n",
       "    </tr>\n",
       "    <tr>\n",
       "      <th>3</th>\n",
       "      <td>2020-01-05</td>\n",
       "      <td>Information last everything thank serve.</td>\n",
       "      <td>Investment</td>\n",
       "      <td>2291.00</td>\n",
       "      <td>Income</td>\n",
       "      <td>3</td>\n",
       "    </tr>\n",
       "    <tr>\n",
       "      <th>4</th>\n",
       "      <td>2020-01-13</td>\n",
       "      <td>Future choice whatever from.</td>\n",
       "      <td>Food &amp; Drink</td>\n",
       "      <td>1126.88</td>\n",
       "      <td>Expense</td>\n",
       "      <td>1</td>\n",
       "    </tr>\n",
       "    <tr>\n",
       "      <th>...</th>\n",
       "      <td>...</td>\n",
       "      <td>...</td>\n",
       "      <td>...</td>\n",
       "      <td>...</td>\n",
       "      <td>...</td>\n",
       "      <td>...</td>\n",
       "    </tr>\n",
       "    <tr>\n",
       "      <th>1495</th>\n",
       "      <td>2024-12-28</td>\n",
       "      <td>Quite as when.</td>\n",
       "      <td>Rent</td>\n",
       "      <td>514.09</td>\n",
       "      <td>Expense</td>\n",
       "      <td>5</td>\n",
       "    </tr>\n",
       "    <tr>\n",
       "      <th>1496</th>\n",
       "      <td>2024-12-28</td>\n",
       "      <td>Right analysis mention.</td>\n",
       "      <td>Entertainment</td>\n",
       "      <td>727.25</td>\n",
       "      <td>Expense</td>\n",
       "      <td>0</td>\n",
       "    </tr>\n",
       "    <tr>\n",
       "      <th>1497</th>\n",
       "      <td>2024-12-28</td>\n",
       "      <td>No couple debate must.</td>\n",
       "      <td>Investment</td>\n",
       "      <td>1425.00</td>\n",
       "      <td>Income</td>\n",
       "      <td>3</td>\n",
       "    </tr>\n",
       "    <tr>\n",
       "      <th>1498</th>\n",
       "      <td>2024-12-29</td>\n",
       "      <td>Discussion black follow.</td>\n",
       "      <td>Shopping</td>\n",
       "      <td>655.78</td>\n",
       "      <td>Expense</td>\n",
       "      <td>7</td>\n",
       "    </tr>\n",
       "    <tr>\n",
       "      <th>1499</th>\n",
       "      <td>2024-12-29</td>\n",
       "      <td>Pressure activity defense detail.</td>\n",
       "      <td>Other</td>\n",
       "      <td>1480.00</td>\n",
       "      <td>Income</td>\n",
       "      <td>4</td>\n",
       "    </tr>\n",
       "  </tbody>\n",
       "</table>\n",
       "<p>1500 rows × 6 columns</p>\n",
       "</div>"
      ],
      "text/plain": [
       "            Date                   Transaction Description       Category  \\\n",
       "0     2020-01-02                               Score each.   Food & Drink   \n",
       "1     2020-01-02                       Quality throughout.      Utilities   \n",
       "2     2020-01-04        Instead ahead despite measure ago.           Rent   \n",
       "3     2020-01-05  Information last everything thank serve.     Investment   \n",
       "4     2020-01-13              Future choice whatever from.   Food & Drink   \n",
       "...          ...                                       ...            ...   \n",
       "1495  2024-12-28                            Quite as when.           Rent   \n",
       "1496  2024-12-28                   Right analysis mention.  Entertainment   \n",
       "1497  2024-12-28                    No couple debate must.     Investment   \n",
       "1498  2024-12-29                  Discussion black follow.       Shopping   \n",
       "1499  2024-12-29         Pressure activity defense detail.          Other   \n",
       "\n",
       "       Amount     Type  category_encoded  \n",
       "0     1485.69  Expense                 1  \n",
       "1     1475.58  Expense                 9  \n",
       "2     1185.08  Expense                 5  \n",
       "3     2291.00   Income                 3  \n",
       "4     1126.88  Expense                 1  \n",
       "...       ...      ...               ...  \n",
       "1495   514.09  Expense                 5  \n",
       "1496   727.25  Expense                 0  \n",
       "1497  1425.00   Income                 3  \n",
       "1498   655.78  Expense                 7  \n",
       "1499  1480.00   Income                 4  \n",
       "\n",
       "[1500 rows x 6 columns]"
      ]
     },
     "execution_count": 2,
     "metadata": {},
     "output_type": "execute_result"
    }
   ],
   "source": [
    "# Encoder les labels textuels en entiers\n",
    "\n",
    "from sklearn.preprocessing import LabelEncoder\n",
    "\n",
    "label_encoder = LabelEncoder()\n",
    "df['category_encoded'] = label_encoder.fit_transform(df['Category'])\n",
    "num_classes = len(label_encoder.classes_)\n",
    "df"
   ]
  },
  {
   "cell_type": "code",
   "execution_count": 3,
   "id": "f719f9ad-e840-4871-a944-6bfdd2d2480d",
   "metadata": {
    "editable": true,
    "slideshow": {
     "slide_type": ""
    },
    "tags": []
   },
   "outputs": [
    {
     "name": "stdout",
     "output_type": "stream",
     "text": [
      "df shape                     : (1500, 6)\n",
      "df['category_encoded'] shape : (1500,)\n",
      "train_texts shape            : (1200,)\n",
      "test_texts shape             : (300,)\n",
      "train_labels shape           : (1200,)\n",
      "test_labels shape            : (300,)\n"
     ]
    }
   ],
   "source": [
    "# Séparer les données\n",
    "\n",
    "from sklearn.model_selection import train_test_split\n",
    "\n",
    "train_texts, test_texts, train_labels, test_labels = train_test_split(\n",
    "    df,\n",
    "    df['category_encoded'],\n",
    "    test_size = 0.2,\n",
    "    random_state = 42\n",
    ")\n",
    "\n",
    "train_texts = train_texts[\"Transaction Description\"].fillna(\"\").astype(str)\n",
    "test_texts = test_texts[\"Transaction Description\"].fillna(\"\").astype(str)\n",
    "\n",
    "print(f\"df shape                     : {df.shape}\")\n",
    "print(f\"df['category_encoded'] shape : {df['category_encoded'].shape}\")\n",
    "print(f\"train_texts shape            : {train_texts.shape}\")\n",
    "print(f\"test_texts shape             : {test_texts.shape}\")\n",
    "print(f\"train_labels shape           : {train_labels.shape}\")\n",
    "print(f\"test_labels shape            : {test_labels.shape}\")"
   ]
  },
  {
   "cell_type": "code",
   "execution_count": 4,
   "id": "16353ed4-0b2b-4760-95bd-0f419499c9c2",
   "metadata": {},
   "outputs": [
    {
     "data": {
      "text/plain": [
       "<TextVectorization name=text_vectorization, built=False>"
      ]
     },
     "execution_count": 4,
     "metadata": {},
     "output_type": "execute_result"
    }
   ],
   "source": [
    "# Créer et adapter la couche de vectorisation\n",
    "\n",
    "from tensorflow.keras import layers\n",
    "\n",
    "max_features = 10000\n",
    "sequence_length = 50\n",
    "vectorize_layer = layers.TextVectorization(\n",
    "    max_tokens = max_features,\n",
    "    output_mode = 'int',\n",
    "    output_sequence_length = sequence_length\n",
    ")\n",
    "vectorize_layer"
   ]
  },
  {
   "cell_type": "code",
   "execution_count": 5,
   "id": "e1b81927-f6c5-4daa-b361-2758f88424e3",
   "metadata": {},
   "outputs": [
    {
     "name": "stdout",
     "output_type": "stream",
     "text": [
      "<class 'pandas.core.series.Series'>\n",
      "Index: 1200 entries, 382 to 1126\n",
      "Series name: Transaction Description\n",
      "Non-Null Count  Dtype \n",
      "--------------  ----- \n",
      "1200 non-null   object\n",
      "dtypes: object(1)\n",
      "memory usage: 18.8+ KB\n"
     ]
    }
   ],
   "source": [
    "train_texts.info()"
   ]
  },
  {
   "cell_type": "code",
   "execution_count": 6,
   "id": "f873845e-95dd-43f5-83b6-a9f8dee0af72",
   "metadata": {},
   "outputs": [
    {
     "data": {
      "text/plain": [
       "<TextVectorization name=text_vectorization, built=False>"
      ]
     },
     "execution_count": 6,
     "metadata": {},
     "output_type": "execute_result"
    }
   ],
   "source": [
    "# Adapter la couche au vocabulaire des textes d'entraînement\n",
    "\n",
    "vectorize_layer.adapt(train_texts)\n",
    "vectorize_layer"
   ]
  },
  {
   "cell_type": "markdown",
   "id": "6c2ba3e1-c31e-4d74-9b52-3551fa4f1c65",
   "metadata": {},
   "source": [
    "# Étape 2 : Construction du Modèle Séquentiel"
   ]
  },
  {
   "cell_type": "code",
   "execution_count": 7,
   "id": "2539a18c-5f05-4315-b0ad-22bc22b9356e",
   "metadata": {},
   "outputs": [
    {
     "data": {
      "text/plain": [
       "<Sequential name=sequential, built=True>"
      ]
     },
     "execution_count": 7,
     "metadata": {},
     "output_type": "execute_result"
    }
   ],
   "source": [
    "import tensorflow as tf\n",
    "\n",
    "embedding_dim = 128\n",
    "\n",
    "model = tf.keras.Sequential([\n",
    "    layers.Input(\n",
    "        shape = (1,),\n",
    "        dtype = tf.string\n",
    "    ),\n",
    "    vectorize_layer,\n",
    "    layers.Embedding(\n",
    "        input_dim = max_features + 1,\n",
    "        output_dim = embedding_dim\n",
    "    ),\n",
    "    layers.Bidirectional(layers.LSTM(64)),\n",
    "    layers.Dense(64, activation = 'relu'),\n",
    "    layers.Dropout(0.5),\n",
    "    layers.Dense(num_classes, activation='softmax')\n",
    "])\n",
    "model"
   ]
  },
  {
   "cell_type": "markdown",
   "id": "273234e8-342d-4614-b559-a712a90d505a",
   "metadata": {},
   "source": [
    "# Étape 3 : Callbacks, Compilation et Entraînement"
   ]
  },
  {
   "cell_type": "code",
   "execution_count": 8,
   "id": "3167b8d8-04ec-4e3c-9f5e-4acb5c074dc3",
   "metadata": {},
   "outputs": [],
   "source": [
    "# Callbacks\n",
    "\n",
    "nlp_checkpoint_callback = tf.keras.callbacks.ModelCheckpoint(\n",
    "    filepath='best_model_nlp.keras',\n",
    "    monitor='val_accuracy',\n",
    "    mode='max',\n",
    "    save_best_only=True\n",
    ")\n",
    "\n",
    "nlp_early_stopping_callback = tf.keras.callbacks.EarlyStopping(\n",
    "    monitor='val_loss',\n",
    "    patience=3,\n",
    "    restore_best_weights=True\n",
    ")"
   ]
  },
  {
   "cell_type": "code",
   "execution_count": 9,
   "id": "09aa999d-e048-477a-add0-4741a210def7",
   "metadata": {},
   "outputs": [
    {
     "data": {
      "text/html": [
       "<pre style=\"white-space:pre;overflow-x:auto;line-height:normal;font-family:Menlo,'DejaVu Sans Mono',consolas,'Courier New',monospace\"><span style=\"font-weight: bold\">Model: \"sequential\"</span>\n",
       "</pre>\n"
      ],
      "text/plain": [
       "\u001b[1mModel: \"sequential\"\u001b[0m\n"
      ]
     },
     "metadata": {},
     "output_type": "display_data"
    },
    {
     "data": {
      "text/html": [
       "<pre style=\"white-space:pre;overflow-x:auto;line-height:normal;font-family:Menlo,'DejaVu Sans Mono',consolas,'Courier New',monospace\">┏━━━━━━━━━━━━━━━━━━━━━━━━━━━━━━━━━┳━━━━━━━━━━━━━━━━━━━━━━━━┳━━━━━━━━━━━━━━━┓\n",
       "┃<span style=\"font-weight: bold\"> Layer (type)                    </span>┃<span style=\"font-weight: bold\"> Output Shape           </span>┃<span style=\"font-weight: bold\">       Param # </span>┃\n",
       "┡━━━━━━━━━━━━━━━━━━━━━━━━━━━━━━━━━╇━━━━━━━━━━━━━━━━━━━━━━━━╇━━━━━━━━━━━━━━━┩\n",
       "│ text_vectorization              │ (<span style=\"color: #00d7ff; text-decoration-color: #00d7ff\">None</span>, <span style=\"color: #00af00; text-decoration-color: #00af00\">50</span>)             │             <span style=\"color: #00af00; text-decoration-color: #00af00\">0</span> │\n",
       "│ (<span style=\"color: #0087ff; text-decoration-color: #0087ff\">TextVectorization</span>)             │                        │               │\n",
       "├─────────────────────────────────┼────────────────────────┼───────────────┤\n",
       "│ embedding (<span style=\"color: #0087ff; text-decoration-color: #0087ff\">Embedding</span>)           │ (<span style=\"color: #00d7ff; text-decoration-color: #00d7ff\">None</span>, <span style=\"color: #00af00; text-decoration-color: #00af00\">50</span>, <span style=\"color: #00af00; text-decoration-color: #00af00\">128</span>)        │     <span style=\"color: #00af00; text-decoration-color: #00af00\">1,280,128</span> │\n",
       "├─────────────────────────────────┼────────────────────────┼───────────────┤\n",
       "│ bidirectional (<span style=\"color: #0087ff; text-decoration-color: #0087ff\">Bidirectional</span>)   │ (<span style=\"color: #00d7ff; text-decoration-color: #00d7ff\">None</span>, <span style=\"color: #00af00; text-decoration-color: #00af00\">128</span>)            │        <span style=\"color: #00af00; text-decoration-color: #00af00\">98,816</span> │\n",
       "├─────────────────────────────────┼────────────────────────┼───────────────┤\n",
       "│ dense (<span style=\"color: #0087ff; text-decoration-color: #0087ff\">Dense</span>)                   │ (<span style=\"color: #00d7ff; text-decoration-color: #00d7ff\">None</span>, <span style=\"color: #00af00; text-decoration-color: #00af00\">64</span>)             │         <span style=\"color: #00af00; text-decoration-color: #00af00\">8,256</span> │\n",
       "├─────────────────────────────────┼────────────────────────┼───────────────┤\n",
       "│ dropout (<span style=\"color: #0087ff; text-decoration-color: #0087ff\">Dropout</span>)               │ (<span style=\"color: #00d7ff; text-decoration-color: #00d7ff\">None</span>, <span style=\"color: #00af00; text-decoration-color: #00af00\">64</span>)             │             <span style=\"color: #00af00; text-decoration-color: #00af00\">0</span> │\n",
       "├─────────────────────────────────┼────────────────────────┼───────────────┤\n",
       "│ dense_1 (<span style=\"color: #0087ff; text-decoration-color: #0087ff\">Dense</span>)                 │ (<span style=\"color: #00d7ff; text-decoration-color: #00d7ff\">None</span>, <span style=\"color: #00af00; text-decoration-color: #00af00\">10</span>)             │           <span style=\"color: #00af00; text-decoration-color: #00af00\">650</span> │\n",
       "└─────────────────────────────────┴────────────────────────┴───────────────┘\n",
       "</pre>\n"
      ],
      "text/plain": [
       "┏━━━━━━━━━━━━━━━━━━━━━━━━━━━━━━━━━┳━━━━━━━━━━━━━━━━━━━━━━━━┳━━━━━━━━━━━━━━━┓\n",
       "┃\u001b[1m \u001b[0m\u001b[1mLayer (type)                   \u001b[0m\u001b[1m \u001b[0m┃\u001b[1m \u001b[0m\u001b[1mOutput Shape          \u001b[0m\u001b[1m \u001b[0m┃\u001b[1m \u001b[0m\u001b[1m      Param #\u001b[0m\u001b[1m \u001b[0m┃\n",
       "┡━━━━━━━━━━━━━━━━━━━━━━━━━━━━━━━━━╇━━━━━━━━━━━━━━━━━━━━━━━━╇━━━━━━━━━━━━━━━┩\n",
       "│ text_vectorization              │ (\u001b[38;5;45mNone\u001b[0m, \u001b[38;5;34m50\u001b[0m)             │             \u001b[38;5;34m0\u001b[0m │\n",
       "│ (\u001b[38;5;33mTextVectorization\u001b[0m)             │                        │               │\n",
       "├─────────────────────────────────┼────────────────────────┼───────────────┤\n",
       "│ embedding (\u001b[38;5;33mEmbedding\u001b[0m)           │ (\u001b[38;5;45mNone\u001b[0m, \u001b[38;5;34m50\u001b[0m, \u001b[38;5;34m128\u001b[0m)        │     \u001b[38;5;34m1,280,128\u001b[0m │\n",
       "├─────────────────────────────────┼────────────────────────┼───────────────┤\n",
       "│ bidirectional (\u001b[38;5;33mBidirectional\u001b[0m)   │ (\u001b[38;5;45mNone\u001b[0m, \u001b[38;5;34m128\u001b[0m)            │        \u001b[38;5;34m98,816\u001b[0m │\n",
       "├─────────────────────────────────┼────────────────────────┼───────────────┤\n",
       "│ dense (\u001b[38;5;33mDense\u001b[0m)                   │ (\u001b[38;5;45mNone\u001b[0m, \u001b[38;5;34m64\u001b[0m)             │         \u001b[38;5;34m8,256\u001b[0m │\n",
       "├─────────────────────────────────┼────────────────────────┼───────────────┤\n",
       "│ dropout (\u001b[38;5;33mDropout\u001b[0m)               │ (\u001b[38;5;45mNone\u001b[0m, \u001b[38;5;34m64\u001b[0m)             │             \u001b[38;5;34m0\u001b[0m │\n",
       "├─────────────────────────────────┼────────────────────────┼───────────────┤\n",
       "│ dense_1 (\u001b[38;5;33mDense\u001b[0m)                 │ (\u001b[38;5;45mNone\u001b[0m, \u001b[38;5;34m10\u001b[0m)             │           \u001b[38;5;34m650\u001b[0m │\n",
       "└─────────────────────────────────┴────────────────────────┴───────────────┘\n"
      ]
     },
     "metadata": {},
     "output_type": "display_data"
    },
    {
     "data": {
      "text/html": [
       "<pre style=\"white-space:pre;overflow-x:auto;line-height:normal;font-family:Menlo,'DejaVu Sans Mono',consolas,'Courier New',monospace\"><span style=\"font-weight: bold\"> Total params: </span><span style=\"color: #00af00; text-decoration-color: #00af00\">1,387,850</span> (5.29 MB)\n",
       "</pre>\n"
      ],
      "text/plain": [
       "\u001b[1m Total params: \u001b[0m\u001b[38;5;34m1,387,850\u001b[0m (5.29 MB)\n"
      ]
     },
     "metadata": {},
     "output_type": "display_data"
    },
    {
     "data": {
      "text/html": [
       "<pre style=\"white-space:pre;overflow-x:auto;line-height:normal;font-family:Menlo,'DejaVu Sans Mono',consolas,'Courier New',monospace\"><span style=\"font-weight: bold\"> Trainable params: </span><span style=\"color: #00af00; text-decoration-color: #00af00\">1,387,850</span> (5.29 MB)\n",
       "</pre>\n"
      ],
      "text/plain": [
       "\u001b[1m Trainable params: \u001b[0m\u001b[38;5;34m1,387,850\u001b[0m (5.29 MB)\n"
      ]
     },
     "metadata": {},
     "output_type": "display_data"
    },
    {
     "data": {
      "text/html": [
       "<pre style=\"white-space:pre;overflow-x:auto;line-height:normal;font-family:Menlo,'DejaVu Sans Mono',consolas,'Courier New',monospace\"><span style=\"font-weight: bold\"> Non-trainable params: </span><span style=\"color: #00af00; text-decoration-color: #00af00\">0</span> (0.00 B)\n",
       "</pre>\n"
      ],
      "text/plain": [
       "\u001b[1m Non-trainable params: \u001b[0m\u001b[38;5;34m0\u001b[0m (0.00 B)\n"
      ]
     },
     "metadata": {},
     "output_type": "display_data"
    }
   ],
   "source": [
    "# Compilation\n",
    "\n",
    "model.compile(\n",
    "    loss='sparse_categorical_crossentropy',\n",
    "    optimizer='adam',\n",
    "    metrics=['accuracy']\n",
    ")\n",
    "model.summary()"
   ]
  },
  {
   "cell_type": "code",
   "execution_count": 13,
   "id": "a68de764-f83b-48e5-bb6d-fdbe08e77e7e",
   "metadata": {},
   "outputs": [
    {
     "name": "stdout",
     "output_type": "stream",
     "text": [
      "Epoch 1/10\n",
      "\u001b[1m38/38\u001b[0m \u001b[32m━━━━━━━━━━━━━━━━━━━━\u001b[0m\u001b[37m\u001b[0m \u001b[1m3s\u001b[0m 29ms/step - accuracy: 0.0960 - loss: 2.3060 - val_accuracy: 0.1267 - val_loss: 2.3022\n",
      "Epoch 2/10\n",
      "\u001b[1m38/38\u001b[0m \u001b[32m━━━━━━━━━━━━━━━━━━━━\u001b[0m\u001b[37m\u001b[0m \u001b[1m1s\u001b[0m 19ms/step - accuracy: 0.0991 - loss: 2.3002 - val_accuracy: 0.0900 - val_loss: 2.3082\n",
      "Epoch 3/10\n",
      "\u001b[1m38/38\u001b[0m \u001b[32m━━━━━━━━━━━━━━━━━━━━\u001b[0m\u001b[37m\u001b[0m \u001b[1m1s\u001b[0m 34ms/step - accuracy: 0.1233 - loss: 2.2901 - val_accuracy: 0.0767 - val_loss: 2.3057\n",
      "Epoch 4/10\n",
      "\u001b[1m38/38\u001b[0m \u001b[32m━━━━━━━━━━━━━━━━━━━━\u001b[0m\u001b[37m\u001b[0m \u001b[1m1s\u001b[0m 36ms/step - accuracy: 0.1644 - loss: 2.2691 - val_accuracy: 0.1100 - val_loss: 2.3054\n"
     ]
    }
   ],
   "source": [
    "# Entraînement\n",
    "\n",
    "epochs = 10\n",
    "history = model.fit(\n",
    "    train_texts.values.astype(object),\n",
    "    train_labels.values,\n",
    "    validation_data = (test_texts.values.astype(object), test_labels.values),\n",
    "    epochs = epochs,\n",
    "    callbacks = [nlp_checkpoint_callback, nlp_early_stopping_callback]\n",
    ")"
   ]
  }
 ],
 "metadata": {
  "kernelspec": {
   "display_name": "Python 3 (ipykernel)",
   "language": "python",
   "name": "python3"
  },
  "language_info": {
   "codemirror_mode": {
    "name": "ipython",
    "version": 3
   },
   "file_extension": ".py",
   "mimetype": "text/x-python",
   "name": "python",
   "nbconvert_exporter": "python",
   "pygments_lexer": "ipython3",
   "version": "3.12.11"
  }
 },
 "nbformat": 4,
 "nbformat_minor": 5
}
